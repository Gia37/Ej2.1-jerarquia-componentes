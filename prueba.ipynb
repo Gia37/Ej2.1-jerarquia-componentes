{
  "nbformat": 4,
  "nbformat_minor": 0,
  "metadata": {
    "colab": {
      "name": "prueba.ipynb",
      "provenance": [],
      "authorship_tag": "ABX9TyPcC635dhLDhlJsuZ+3LyxB",
      "include_colab_link": true
    },
    "kernelspec": {
      "name": "python3",
      "display_name": "Python 3"
    },
    "language_info": {
      "name": "python"
    }
  },
  "cells": [
    {
      "cell_type": "markdown",
      "metadata": {
        "id": "view-in-github",
        "colab_type": "text"
      },
      "source": [
        "<a href=\"https://colab.research.google.com/github/Gia37/Ej2.1-jerarquia-componentes/blob/main/prueba.ipynb\" target=\"_parent\"><img src=\"https://colab.research.google.com/assets/colab-badge.svg\" alt=\"Open In Colab\"/></a>"
      ]
    },
    {
      "cell_type": "code",
      "metadata": {
        "colab": {
          "base_uri": "https://localhost:8080/"
        },
        "id": "CAYR2lTHydY8",
        "outputId": "c51f4b65-f449-4400-9ab4-a52cec88c650"
      },
      "source": [
        "import scipy.optimize as opt\n",
        "from numpy import exp\n",
        "\n",
        "def f(variables) :\n",
        "    (x,y) = variables\n",
        "    first_eq = x + y**2 - 4\n",
        "    second_eq = exp(x) + x*y - 3\n",
        "    return [first_eq, second_eq]\n",
        "\n",
        "solution = opt.fsolve(f, (0.1, 1)) # fsolve(equations, X_0)\n",
        "print(solution)\n",
        "\n",
        "# [ 0.62034452  1.83838393]"
      ],
      "execution_count": 1,
      "outputs": [
        {
          "output_type": "stream",
          "name": "stdout",
          "text": [
            "[0.62034452 1.83838393]\n"
          ]
        }
      ]
    }
  ]
}