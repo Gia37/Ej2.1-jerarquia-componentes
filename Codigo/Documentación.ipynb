{
  "nbformat": 4,
  "nbformat_minor": 0,
  "metadata": {
    "anaconda-cloud": {},
    "kernelspec": {
      "display_name": "Python [default]",
      "language": "python",
      "name": "python2"
    },
    "language_info": {
      "codemirror_mode": {
        "name": "ipython",
        "version": 2
      },
      "file_extension": ".py",
      "mimetype": "text/x-python",
      "name": "python",
      "nbconvert_exporter": "python",
      "pygments_lexer": "ipython2",
      "version": "2.7.12"
    },
    "colab": {
      "name": "Documentación.ipynb",
      "provenance": [],
      "include_colab_link": true
    }
  },
  "cells": [
    {
      "cell_type": "markdown",
      "metadata": {
        "id": "view-in-github",
        "colab_type": "text"
      },
      "source": [
        "<a href=\"https://colab.research.google.com/github/Gia37/Ej2.1-jerarquia-componentes/blob/main/Codigo/Documentaci%C3%B3n.ipynb\" target=\"_parent\"><img src=\"https://colab.research.google.com/assets/colab-badge.svg\" alt=\"Open In Colab\"/></a>"
      ]
    },
    {
      "cell_type": "markdown",
      "metadata": {
        "id": "cEvxMaBnwNL7"
      },
      "source": [
        "# Instalación"
      ]
    },
    {
      "cell_type": "markdown",
      "metadata": {
        "id": "IVsIX9cnwNMB"
      },
      "source": [
        "1. Para la correcta ejecución de los archivos de este repositorio debe tener previamente instalados:\n",
        " * **Firefox**: descargar el instalador correspondiente a su sistema operativo de la página [Instrucciones de instalación](https://support.mozilla.org/es/products/firefox/download-and-install), muchas distribuciones de Linux tienen por defecto Firefox,una vez descargado el archivo abre un Terminal y ve a tu directorio de inicio: \n",
        "     * `cd ~`\n",
        "         * `tar xjf firefox-*.tar.bz2`, luego para iniciar Firefox, ejecuta el script firefox en la carpeta firefox: \n",
        "         * `~/firefox/firefox`\n",
        " * **Miniconda**: descargar el instalador correspondiente (python 2 o 3, 32 o 64 bits, windows, linux o mac) de la página [Miniconda](http://conda.pydata.org/miniconda.html), y seguir las [instrucciones](http://conda.pydata.org/docs/install/quick.html) según su sistema operativo. Para el caso de linux:\n",
        "     * `bash Miniconda3-latest-Linux-x86_64.sh`\n",
        " * **Python**: para la instalación de python, usando conda, se puede seguir el siguiente comando en la terminal:\n",
        "     * `conda install python`\n",
        " * **R**: usaremos conda para instalar [R](https://github.com/cosmoscalibur/herramientas_computacionales/blob/master/R_basico.ipynb):\n",
        "     *  `conda install -c r r-essentials`\n",
        " \n",
        "2. Luego procede a la instalación usando _conda_, por medio de la consola, de:  \n",
        "    + **Jupyter**: `conda install jupyter`    \n",
        "    + **BeautifulSoup**: `conda install -c anaconda beautifulsoup4 requests`  \n",
        "    + **Selenium**: `conda install -c conda-forge selenium`  \n",
        "    + **Gnuplot**:\n",
        "        * `apt -y install gnuplot`, y para dar soporte al uso de gnuplot en el notebook:\n",
        "            * `pip install --upgrade --no-cache-dir`\n",
        "            * `git+https://github.com/has2k1/gnuplot_kernel.git@master`\n",
        "    + **Numpy**: \n",
        "        * `conda install numpy`\n",
        "3. Clonar el repositorio:    \n",
        "    + `git clone https://github.com/Gia37/Baloto.git`"
      ]
    },
    {
      "cell_type": "markdown",
      "metadata": {
        "id": "WmmKUwXdwNMC"
      },
      "source": [
        "# Inicialización"
      ]
    },
    {
      "cell_type": "markdown",
      "metadata": {
        "id": "8HiUQZBUwNMD"
      },
      "source": [
        "Una vez clonado el repositorio desde la terminal, realice los siguientes pasos:\n",
        "\n",
        "1. Ingrese a la carpeta donde clono el proyecto **Baloto** y luego a la carpeta **Codigo** ejecutando los siguientes códigos, respectivamente:\n",
        "\n",
        "    + `cd Baloto`\n",
        "    + `cd Codigo`    \n",
        "\n",
        "2. Ejecute el código **Descarga.py** que genera los archivos **Datos.md,**  **Datos.dat**  y **Frecuencia.dat**:\n",
        "\n",
        "    + `python Descarga.py` \n",
        "    \n",
        "3. Luego se generaran los archivos **Datos.md,** **Datos.dat** y **Frecuencia.dat,** donde el primero muestra de forma presentable las series con sus respectivas fechas y números sorteados, el segundo, solo muestra en 6 columnas los números sorteados para su análisis y el tercero muestra 2 columnas, la primera con el número de la balota (que va desde 1 hasta 45) y la segunda con el número de veces que dicho número ha salido.\n",
        "\n",
        "## Nota: \n",
        "*  **Descarga.py**: Se encarga de realizar la extracción de datos web ingresando a la página [Historico de resultados](http://baloto.com/filtro-historico-de-resultados.php).\n",
        "+ Para la correcta ejecución de **Descarga.py** debe tener Firefox instalado.\n",
        "+ Al ejecutarlo se abrira una ventana en Firefox donde se estaran seleccionando los años desde que se está sorteando el Baloto, es decir desde el 2001 hasta el 2016, y una vez terminado el proceso el usuario debe cerrar la ventana. "
      ]
    },
    {
      "cell_type": "markdown",
      "metadata": {
        "collapsed": false,
        "id": "hTpjcRsFwNME"
      },
      "source": [
        "## Nota acerca de Datos.dat\n",
        "\n",
        "En este archivo se muestran en 6 columnas los números sorteados, es decir, en la primera columna se encuentran todos los números de las balotas que han salido de primeras en el historico de sorteos, en la segunda columna los números de las segundas balotas, y así hasta la sexta balota.\n",
        "Se pueden observar más datos de lo esperado (número de series), esto es debido a que en dicho archivo se encuentra tanto el Baloto tradicional como el Baloto revancha, siendo así que cada vez que juegue el Baloto y se actualice el archivo de `Consulta.py` se agregan dos sorteos a la lista."
      ]
    },
    {
      "cell_type": "markdown",
      "metadata": {
        "collapsed": false,
        "id": "-Gk881f9wNMF"
      },
      "source": [
        "# Consulta"
      ]
    },
    {
      "cell_type": "markdown",
      "metadata": {
        "id": "_EXAMMaCwNMG"
      },
      "source": [
        "Utilizamos el archivo [Consulta.py](https://github.com/Gia37/Baloto/blob/master/Codigo/Consulta.py) sólo para consultas de información básica. Este es un archivo con el cual el usuario puede consultar información acerca de los datos, en este caso, se permiten hacer cuatro tipo de consultas: \n",
        "\n",
        "1. Qué sorteo salió según el número de serie\n",
        "2. Qué sorteos salieron en el año ingresado \n",
        "3. Qué sorteo salió según la fecha\n",
        "4. Cuántas veces ha salido el número del sorteo  \n",
        "\n",
        "Para la ejecución de este archivo se ingresa a la carpeta donde se encuentra _Baloto_ y una vez allí, se abre la carpeta _Codigo_ ingresando en la terminal:\n",
        "\n",
        "* `cd Baloto`  \n",
        "* `cd Codigo`\n",
        "   \n",
        "Y por último ejecutar:  \n",
        "\n",
        "* `python Consulta.py`"
      ]
    },
    {
      "cell_type": "code",
      "metadata": {
        "scrolled": false,
        "id": "WYCGSEG5wNMG",
        "outputId": "cc0a38b4-2de7-453f-b491-2b0ad8659f38"
      },
      "source": [
        "#Ejemplo de Consulta\n",
        "import Consulta as C\n",
        "from IPython.display import display, Markdown\n",
        "display(Markdown(C.F_Mark()))"
      ],
      "execution_count": null,
      "outputs": [
        {
          "name": "stdout",
          "output_type": "stream",
          "text": [
            "Ingrese 1, 2, 3, o 4 segun el dato que desea consultar\n",
            "1. Sorteo que salio en la serie \n",
            "2. Sorteos que han salido en el a?o \n",
            "3. Sorteos que han salido en la fecha \n",
            "4. Cuantas veces ha salido el numero  \n",
            "5. SALIR\n",
            ">> 2\n",
            "Ingrese el a?o AAAA (2001 hasta el 2016) >> 2016\n"
          ]
        },
        {
          "data": {
            "text/markdown": [
              "|Baloto|Revancha|\n",
              "|:---:|:---:|\n",
              "| 18 - 19 - 22 - 26 - 27 - 28 | 10 - 14 - 28 - 34 - 35 - 39 | \n",
              "| 03 - 06 - 07 - 20 - 25 - 37 | 09 - 11 - 13 - 31 - 34 - 40 | \n",
              "| 10 - 11 - 22 - 28 - 34 - 35 | 01 - 23 - 25 - 36 - 42 - 45 | \n",
              "| 01 - 05 - 12 - 16 - 27 - 35 | 01 - 16 - 17 - 20 - 23 - 44 | \n",
              "| 02 - 09 - 26 - 34 - 35 - 42 | 02 - 17 - 20 - 21 - 42 - 44 | \n",
              "| 13 - 15 - 22 - 25 - 26 - 38 | 19 - 22 - 28 - 33 - 38 - 45 | \n",
              "| 01 - 05 - 12 - 22 - 33 - 40 | 03 - 05 - 15 - 17 - 33 - 42 | \n",
              "| 03 - 06 - 14 - 36 - 39 - 43 | 15 - 18 - 22 - 33 - 42 - 45 | \n",
              "| 01 - 07 - 10 - 11 - 22 - 30 | 12 - 17 - 29 - 33 - 34 - 36 | \n",
              "| 09 - 18 - 23 - 31 - 32 - 36 | 01 - 16 - 26 - 29 - 31 - 32 | \n",
              "| 01 - 14 - 16 - 19 - 29 - 33 | 08 - 09 - 14 - 19 - 27 - 34 | \n",
              "| 16 - 27 - 28 - 33 - 35 - 43 | 03 - 08 - 29 - 32 - 34 - 44 | \n",
              "| 19 - 22 - 25 - 35 - 40 - 42 | 06 - 17 - 24 - 25 - 39 - 42 | \n",
              "| 08 - 16 - 20 - 26 - 35 - 40 | 03 - 09 - 14 - 27 - 38 - 44 | \n",
              "| 02 - 09 - 13 - 17 - 29 - 45 | 17 - 19 - 29 - 33 - 38 - 43 | \n",
              "| 08 - 11 - 16 - 23 - 24 - 30 | 01 - 02 - 04 - 29 - 30 - 33 | \n",
              "| 05 - 06 - 18 - 30 - 32 - 36 | 03 - 04 - 05 - 19 - 27 - 29 | \n",
              "| 11 - 18 - 24 - 35 - 42 - 45 | 01 - 05 - 23 - 32 - 37 - 38 | \n",
              "| 24 - 31 - 32 - 33 - 40 - 42 | 06 - 10 - 13 - 27 - 28 - 44 | \n",
              "| 04 - 07 - 13 - 14 - 17 - 27 | 05 - 17 - 21 - 27 - 34 - 37 | \n",
              "| 16 - 19 - 22 - 30 - 43 - 45 | 05 - 06 - 08 - 22 - 23 - 38 | \n",
              "| 08 - 20 - 22 - 33 - 38 - 40 | 24 - 25 - 27 - 35 - 42 - 43 | \n",
              "| 10 - 28 - 32 - 41 - 44 - 45 | 11 - 24 - 31 - 36 - 38 - 39 | \n",
              "| 04 - 07 - 09 - 18 - 29 - 45 | 03 - 20 - 26 - 29 - 31 - 36 | \n",
              "| 01 - 02 - 08 - 15 - 24 - 34 | 05 - 11 - 20 - 39 - 41 - 44 | \n",
              "| 04 - 07 - 15 - 16 - 27 - 37 | 15 - 27 - 29 - 30 - 34 - 35 | \n",
              "| 03 - 15 - 19 - 30 - 32 - 45 | 03 - 09 - 15 - 26 - 34 - 44 | \n",
              "| 01 - 05 - 12 - 16 - 28 - 35 | 01 - 05 - 21 - 26 - 34 - 44 | \n",
              "| 03 - 10 - 20 - 21 - 34 - 40 | 03 - 30 - 31 - 36 - 42 - 43 | \n",
              "| 03 - 04 - 06 - 22 - 34 - 45 | 12 - 18 - 20 - 33 - 38 - 43 | \n",
              "| 05 - 07 - 18 - 20 - 23 - 42 | 17 - 31 - 32 - 33 - 37 - 42 | \n",
              "| 01 - 07 - 19 - 27 - 34 - 43 | 05 - 09 - 19 - 31 - 32 - 37 | \n",
              "| 02 - 09 - 12 - 21 - 27 - 33 | 04 - 13 - 24 - 26 - 32 - 37 | \n",
              "| 18 - 25 - 32 - 35 - 42 - 45 | 10 - 18 - 33 - 38 - 42 - 44 | \n",
              "| 03 - 11 - 20 - 27 - 31 - 34 | 01 - 15 - 16 - 27 - 30 - 36 | \n",
              "| 10 - 25 - 36 - 38 - 40 - 44 | 28 - 36 - 38 - 39 - 40 - 44 | \n",
              "| 06 - 07 - 13 - 26 - 28 - 45 | 09 - 14 - 23 - 27 - 30 - 41 | \n",
              "| 01 - 10 - 16 - 21 - 38 - 43 | 14 - 18 - 20 - 22 - 34 - 37 | \n",
              "| 11 - 14 - 20 - 22 - 37 - 42 | 06 - 15 - 22 - 23 - 36 - 39 | \n",
              "| 08 - 10 - 12 - 17 - 23 - 28 | 12 - 18 - 19 - 20 - 26 - 28 | \n",
              "| 09 - 17 - 18 - 24 - 25 - 30 | 08 - 26 - 32 - 37 - 39 - 44 | \n",
              "| 09 - 17 - 25 - 26 - 33 - 36 | 08 - 18 - 21 - 25 - 31 - 34 | \n",
              "| 04 - 11 - 14 - 16 - 21 - 27 | 07 - 13 - 22 - 34 - 44 - 45 | \n",
              "| 01 - 04 - 05 - 15 - 24 - 39 | 02 - 10 - 25 - 27 - 34 - 45 | \n",
              "| 03 - 04 - 10 - 18 - 24 - 29 | 08 - 15 - 19 - 33 - 35 - 36 | \n",
              "| 01 - 09 - 13 - 23 - 26 - 32 | 10 - 13 - 14 - 19 - 38 - 41 | \n",
              "| 02 - 11 - 12 - 24 - 34 - 36 | 07 - 24 - 28 - 31 - 32 - 37 | \n",
              "| 01 - 20 - 27 - 34 - 36 - 41 | 04 - 19 - 33 - 34 - 39 - 43 | \n",
              "| 05 - 14 - 18 - 21 - 23 - 42 | 01 - 05 - 25 - 30 - 33 - 44 | \n",
              "| 03 - 20 - 27 - 30 - 39 - 42 | 14 - 16 - 28 - 31 - 32 - 39 | \n",
              "| 04 - 10 - 20 - 24 - 28 - 38 | 01 - 11 - 25 - 32 - 41 - 42 | \n",
              "| 03 - 21 - 22 - 24 - 26 - 44 | 02 - 13 - 14 - 22 - 42 - 44 | \n",
              "| 17 - 21 - 27 - 30 - 32 - 34 | 14 - 23 - 28 - 29 - 35 - 36 | \n",
              "| 03 - 07 - 10 - 25 - 26 - 37 | 02 - 17 - 20 - 22 - 23 - 29 | \n",
              "| 11 - 32 - 37 - 41 - 42 - 45 | 01 - 08 - 18 - 19 - 31 - 42 | \n",
              "| 16 - 20 - 23 - 34 - 38 - 40 | 09 - 13 - 19 - 29 - 31 - 45 | \n",
              "| 03 - 05 - 10 - 25 - 38 - 41 | 03 - 22 - 27 - 34 - 38 - 40 | \n",
              "| 13 - 22 - 24 - 26 - 28 - 39 | 17 - 21 - 31 - 32 - 38 - 41 | \n",
              "| 03 - 11 - 14 - 19 - 20 - 26 | 01 - 03 - 25 - 32 - 33 - 36 | \n",
              "| 05 - 21 - 24 - 31 - 34 - 42 | 11 - 16 - 20 - 36 - 37 - 43 | \n",
              "| 07 - 10 - 11 - 17 - 22 - 38 | 12 - 20 - 21 - 29 - 31 - 42 | \n",
              "| 06 - 09 - 11 - 23 - 31 - 37 | 01 - 08 - 14 - 18 - 34 - 42 | \n",
              "| 06 - 08 - 15 - 16 - 33 - 37 | 02 - 03 - 12 - 25 - 31 - 40 | \n",
              "| 08 - 10 - 21 - 30 - 33 - 36 | 04 - 05 - 10 - 17 - 20 - 40 | \n",
              "| 04 - 06 - 17 - 24 - 28 - 32 | 10 - 16 - 25 - 35 - 44 - 45 | \n",
              "| 06 - 10 - 12 - 16 - 22 - 27 | 04 - 07 - 16 - 22 - 33 - 38 | \n",
              "| 06 - 13 - 20 - 24 - 32 - 45 | 02 - 04 - 05 - 10 - 27 - 42 | \n",
              "| 15 - 17 - 24 - 25 - 29 - 42 | 02 - 16 - 21 - 23 - 30 - 37 | \n",
              "| 14 - 16 - 26 - 31 - 35 - 42 | 01 - 04 - 06 - 24 - 36 - 43 | \n",
              "| 08 - 09 - 11 - 18 - 26 - 43 | 04 - 06 - 31 - 36 - 37 - 41 | \n",
              "| 07 - 11 - 24 - 28 - 31 - 44 | 02 - 16 - 17 - 22 - 23 - 42 | \n",
              "| 03 - 04 - 07 - 17 - 38 - 42 | 01 - 06 - 27 - 31 - 33 - 38 | \n",
              "| 03 - 29 - 30 - 43 - 44 - 45 | 05 - 22 - 30 - 33 - 40 - 45 | \n",
              "| 06 - 07 - 15 - 19 - 29 - 39 | 05 - 06 - 12 - 25 - 34 - 43 | \n",
              "| 08 - 10 - 14 - 21 - 32 - 42 | 18 - 20 - 27 - 33 - 36 - 40 | \n",
              "| 06 - 13 - 22 - 29 - 35 - 43 | 03 - 18 - 21 - 31 - 43 - 45 | \n",
              "| 11 - 17 - 27 - 34 - 36 - 38 | 05 - 22 - 24 - 30 - 35 - 43 | \n",
              "| 05 - 10 - 17 - 18 - 29 - 38 | 03 - 21 - 29 - 30 - 34 - 44 | \n",
              "| 09 - 26 - 27 - 28 - 29 - 37 | 14 - 16 - 26 - 30 - 33 - 41 | \n",
              "| 03 - 11 - 15 - 20 - 42 - 43 | 05 - 10 - 13 - 18 - 19 - 37 | \n",
              "| 02 - 03 - 04 - 08 - 12 - 44 | 01 - 03 - 04 - 15 - 16 - 22 | \n",
              "| 02 - 12 - 13 - 21 - 26 - 33 | 03 - 15 - 28 - 30 - 34 - 43 | \n",
              "| 09 - 16 - 30 - 37 - 40 - 42 | 06 - 08 - 22 - 24 - 28 - 44 | \n",
              "| 18 - 19 - 21 - 23 - 30 - 31 | 01 - 03 - 14 - 17 - 23 - 45 | \n",
              "| 07 - 08 - 33 - 34 - 43 - 45 | 12 - 20 - 26 - 33 - 44 - 45 | \n",
              "| 07 - 13 - 25 - 26 - 31 - 32 | 10 - 14 - 20 - 34 - 38 - 45 | \n",
              "| 07 - 10 - 13 - 20 - 32 - 43 | 12 - 13 - 14 - 15 - 27 - 44 | \n",
              "| 03 - 09 - 19 - 28 - 30 - 34 | 03 - 07 - 11 - 12 - 43 - 45 | \n",
              "| 01 - 02 - 10 - 29 - 30 - 31 | 08 - 10 - 12 - 16 - 19 - 28 | \n"
            ],
            "text/plain": [
              "<IPython.core.display.Markdown object>"
            ]
          },
          "metadata": {},
          "output_type": "display_data"
        }
      ]
    },
    {
      "cell_type": "markdown",
      "metadata": {
        "id": "CLDpqqWOwNMJ"
      },
      "source": [
        "# ESTADÍSTICA Y ANÁLISIS"
      ]
    },
    {
      "cell_type": "markdown",
      "metadata": {
        "id": "FilElITDwNMJ"
      },
      "source": [
        " # Estadística descriptiva básica con R\n",
        " \n",
        "En este avance se calcula, por medio de R, la media, mínimo, máximo, la frecuencia y la desviación estandar, se seleccionaron los números de todas las balotas de los sorteos que van desde el 2001 hasta el 2016 (año actual), que se encuentran en el archivo `Datos.dat`, cada vez que se actualicen los datos se debe actualizar la estadística."
      ]
    },
    {
      "cell_type": "code",
      "metadata": {
        "id": "J6oklw0hwNMK",
        "outputId": "f757fefb-7050-4ae2-8db3-b3392a96e843"
      },
      "source": [
        "%%bash\n",
        "Rscript \"Estadistica_Descriptiva.R\""
      ],
      "execution_count": null,
      "outputs": [
        {
          "name": "stdout",
          "output_type": "stream",
          "text": [
            "[1] \"Media de la primera balota\"\n",
            "[1] 6.617791\n",
            "[1] \"Media de la segunda balota\"\n",
            "[1] 13.03177\n",
            "[1] \"Media de la tercera balota\"\n",
            "[1] 19.58944\n",
            "[1] \"Media de la cuarta balota\"\n",
            "[1] 26.13148\n",
            "[1] \"Media de la quinta balota\"\n",
            "[1] 32.64272\n",
            "[1] \"Media de la sexta balota\"\n",
            "[1] 39.4433\n",
            "[1] \"Desviación estandar de la primea balota\"\n",
            "[1] 5.302632\n",
            "[1] \"Desviación estandar de la segunda balota\"\n",
            "[1] 6.793314\n",
            "[1] \"Desviación estandar de la tercera balota\"\n",
            "[1] 7.392229\n",
            "[1] \"Desviación estandar de la cuarta balota\"\n",
            "[1] 7.495839\n",
            "[1] \"Desviación estandar de la quinta balota\"\n",
            "[1] 6.994158\n",
            "[1] \"Desviación estandar de la sexta balota\"\n",
            "[1] 5.302715\n",
            "[1] \"Mínimo de la primera balota\"\n",
            "[1] 1\n",
            "[1] \"Mínimo de la segunda balota\"\n",
            "[1] 2\n",
            "[1] \"Mínimo de la tercera balota\"\n",
            "[1] 3\n",
            "[1] \"Mínimo de la cuarta balota\"\n",
            "[1] 4\n",
            "[1] \"Mínimo de la quinta balota\"\n",
            "[1] 9\n",
            "[1] \"Mínimo de la sexta balota\"\n",
            "[1] 15\n",
            "[1] \"Máximo de la primera balota\"\n",
            "[1] 31\n",
            "[1] \"Máximo de la segunda balota\"\n",
            "[1] 37\n",
            "[1] \"Máximo de la tercera balota\"\n",
            "[1] 40\n",
            "[1] \"Máximo de la cuarta balota\"\n",
            "[1] 43\n",
            "[1] \"Máximo de la quinta balota\"\n",
            "[1] 44\n",
            "[1] \"Máximo de la sexta balota\"\n",
            "[1] 45\n",
            "[1] \"Las mayores frecuencias son\"\n",
            "[1] 300 298 293 293 289 289\n",
            "[1] \"Las menores frecuencias son\"\n",
            "[1] 238 246 247 251 252 255\n",
            "[1] \"La media de las frecuencias es\"\n",
            "[1] 272.8\n",
            "[1] \"Desviación estandar de las frecuencias es\"\n",
            "[1] 14.80418\n"
          ]
        }
      ]
    },
    {
      "cell_type": "markdown",
      "metadata": {
        "id": "-YqVRSR9wNML"
      },
      "source": [
        "# Estadística de números\n",
        "\n",
        "Se realiza un gráfica de la frecuencia de las balotas, es decir, cuantas veces en toda la historia del baloto han salido cada balota. Se realizó la gráfica por medio de _gnuplot_ (Estadistica_de_numeros.png)"
      ]
    },
    {
      "cell_type": "markdown",
      "metadata": {
        "id": "WGsB0J2JwNML"
      },
      "source": [
        "![imagen](https://github.com/Gia37/Baloto/blob/master/Codigo/Estadistica_de_numeros.png?raw=1)"
      ]
    },
    {
      "cell_type": "markdown",
      "metadata": {
        "id": "_2JgIcSewNML"
      },
      "source": [
        "## Estadística inferencial con Python.\n",
        "\n",
        "Se hallan dos secuencias, una con las 6 balotas que más se repiten y la otra con las 6 balotas que menos se repiten, el numero de sorteos en las que aparecen por lo menos 3 balotas, el porcentaje que tiene cada balota en salir, la media aritmetica de las probabilidades, la desviación media, las diferencias entre la secuencia de frecuencias mayores y la secuencia de frecuencias menores, y por último la mayor y menor diferencia que hay entre la secuencia de frecuencias mayores y la secuencia de frecuencias menores."
      ]
    },
    {
      "cell_type": "code",
      "metadata": {
        "id": "pp4OpJUawNMM",
        "outputId": "5af07377-fcf4-472e-c62a-94389cc0297f"
      },
      "source": [
        "%%bash\n",
        "python Estadistica_Inferencial.py"
      ],
      "execution_count": null,
      "outputs": [
        {
          "name": "stdout",
          "output_type": "stream",
          "text": [
            "Balotas que mas se repiten:  42 - 21 - 2 - 3 - 15 - 24\n",
            "Balotas que menos se repiten:  34 - 38 - 12 - 32 - 39 - 23 \n",
            "\n",
            "Las 3 balotas que mas se repiten aparece juntas en 4 sorteos de 2046 \n",
            "\n",
            "La probabilidad de la balota 1 es: 2.13424568263 %\n",
            "La probabilidad de la balota 2 es: 2.38677093516 %\n",
            "La probabilidad de la balota 3 es: 2.38677093516 %\n",
            "La probabilidad de la balota 4 es: 2.25643532095 %\n",
            "La probabilidad de la balota 5 es: 2.26458129684 %\n",
            "La probabilidad de la balota 6 es: 2.16682958618 %\n",
            "La probabilidad de la balota 7 es: 2.19941348974 %\n",
            "La probabilidad de la balota 8 es: 2.10980775497 %\n",
            "La probabilidad de la balota 9 es: 2.32160312805 %\n",
            "La probabilidad de la balota 10 es: 2.28087324862 %\n",
            "La probabilidad de la balota 11 es: 2.24014336918 %\n",
            "La probabilidad de la balota 12 es: 2.01205604431 %\n",
            "La probabilidad de la balota 13 es: 2.12609970674 %\n",
            "La probabilidad de la balota 14 es: 2.11795373086 %\n",
            "La probabilidad de la balota 15 es: 2.35418703161 %\n",
            "La probabilidad de la balota 16 es: 2.32974910394 %\n",
            "La probabilidad de la balota 17 es: 2.18312153796 %\n",
            "La probabilidad de la balota 18 es: 2.28087324862 %\n",
            "La probabilidad de la balota 19 es: 2.2890192245 %\n",
            "La probabilidad de la balota 20 es: 2.32974910394 %\n",
            "La probabilidad de la balota 21 es: 2.4275008146 %\n",
            "La probabilidad de la balota 22 es: 2.24014336918 %\n",
            "La probabilidad de la balota 23 es: 2.07722385142 %\n",
            "La probabilidad de la balota 24 es: 2.35418703161 %\n",
            "La probabilidad de la balota 25 es: 2.07722385142 %\n",
            "La probabilidad de la balota 26 es: 2.20755946562 %\n",
            "La probabilidad de la balota 27 es: 2.19941348974 %\n",
            "La probabilidad de la balota 28 es: 2.25643532095 %\n",
            "La probabilidad de la balota 29 es: 2.29716520039 %\n",
            "La probabilidad de la balota 30 es: 2.33789507983 %\n",
            "La probabilidad de la balota 31 es: 2.32974910394 %\n",
            "La probabilidad de la balota 32 es: 2.04463994787 %\n",
            "La probabilidad de la balota 33 es: 2.24014336918 %\n",
            "La probabilidad de la balota 34 es: 1.93874226132 %\n",
            "La probabilidad de la balota 35 es: 2.27272727273 %\n",
            "La probabilidad de la balota 36 es: 2.15053763441 %\n",
            "La probabilidad de la balota 37 es: 2.08536982731 %\n",
            "La probabilidad de la balota 38 es: 2.00391006843 %\n",
            "La probabilidad de la balota 39 es: 2.05278592375 %\n",
            "La probabilidad de la balota 40 es: 2.29716520039 %\n",
            "La probabilidad de la balota 41 es: 2.08536982731 %\n",
            "La probabilidad de la balota 42 es: 2.44379276637 %\n",
            "La probabilidad de la balota 43 es: 2.29716520039 %\n",
            "La probabilidad de la balota 44 es: 2.26458129684 %\n",
            "La probabilidad de la balota 45 es: 2.24828934506 %\n",
            "\n",
            "La media aritmetica de las probabilidades es:  2.22222222222\n",
            "La desviacion media es:  0.0999963795663\n",
            "\n",
            "Las diferencias entre el sorteo de mayor frecuencia con la menor es [62, 54, 53, 49, 48, 45, 60, 52, 51, 47, 46, 43, 55, 47, 46, 42, 41, 38, 55, 47, 46, 42, 41, 38, 51, 43, 42, 38, 37, 34, 51, 43, 42, 38, 37, 34]\n",
            "La mayor diferencia: 62 y la menor diferencia: 34\n"
          ]
        }
      ]
    }
  ]
}